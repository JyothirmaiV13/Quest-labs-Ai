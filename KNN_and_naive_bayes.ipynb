{
  "nbformat": 4,
  "nbformat_minor": 0,
  "metadata": {
    "colab": {
      "provenance": []
    },
    "kernelspec": {
      "name": "python3",
      "display_name": "Python 3"
    },
    "language_info": {
      "name": "python"
    }
  },
  "cells": [
    {
      "cell_type": "code",
      "execution_count": 17,
      "metadata": {
        "colab": {
          "base_uri": "https://localhost:8080/"
        },
        "id": "pn3fmFR9m2PZ",
        "outputId": "37cba068-82d4-4973-a11b-1fba1f3406c9"
      },
      "outputs": [
        {
          "output_type": "stream",
          "name": "stdout",
          "text": [
            "                        customer_id                customer_unique_id  \\\n",
            "0  06b8999e2fba1a1fbc88172c00ba8bc7  861eff4711a542e4b93843c6dd7febb0   \n",
            "1  18955e83d337fd6b2def6b18a428ac77  290c77bc529b7ac935b93aa66c333dc3   \n",
            "2  4e7b3e00288586ebd08712fdd0374a03  060e732b5b29e8181a18229c7b0b2b5e   \n",
            "3  b2b6027bc5c5109e529d4dc6358b12c3  259dac757896d24d7702b9acbbff3f3c   \n",
            "4  4f2d8ab171c80ec8364f7c12e35b23ad  345ecd01c38d18a9036ed96c73b8d066   \n",
            "\n",
            "   customer_zip_code_prefix          customer_city customer_state  \\\n",
            "0                     14409                 franca             SP   \n",
            "1                      9790  sao bernardo do campo             SP   \n",
            "2                      1151              sao paulo             SP   \n",
            "3                      8775        mogi das cruzes             SP   \n",
            "4                     13056               campinas             SP   \n",
            "\n",
            "   geolocation_zip_code_prefix  geolocation_lat  geolocation_lng  \\\n",
            "0                          NaN              NaN              NaN   \n",
            "1                          NaN              NaN              NaN   \n",
            "2                          NaN              NaN              NaN   \n",
            "3                          NaN              NaN              NaN   \n",
            "4                          NaN              NaN              NaN   \n",
            "\n",
            "  geolocation_city geolocation_state  ...    order_approved_at  \\\n",
            "0              NaN               NaN  ...  2017-05-16 15:22:12   \n",
            "1              NaN               NaN  ...  2018-01-12 20:58:32   \n",
            "2              NaN               NaN  ...  2018-05-20 16:19:10   \n",
            "3              NaN               NaN  ...  2018-03-13 17:29:19   \n",
            "4              NaN               NaN  ...  2018-07-29 10:10:09   \n",
            "\n",
            "  order_delivered_carrier_date order_delivered_customer_date  \\\n",
            "0          2017-05-23 10:47:57           2017-05-25 10:35:35   \n",
            "1          2018-01-15 17:14:59           2018-01-29 12:41:19   \n",
            "2          2018-06-11 14:31:00           2018-06-14 17:58:51   \n",
            "3          2018-03-27 23:22:42           2018-03-28 16:04:25   \n",
            "4          2018-07-30 15:16:00           2018-08-09 20:55:48   \n",
            "\n",
            "  order_estimated_delivery_date order_item_id  \\\n",
            "0           2017-06-05 00:00:00           1.0   \n",
            "1           2018-02-06 00:00:00           1.0   \n",
            "2           2018-06-13 00:00:00           1.0   \n",
            "3           2018-04-10 00:00:00           1.0   \n",
            "4           2018-08-15 00:00:00           1.0   \n",
            "\n",
            "                         product_id                         seller_id  \\\n",
            "0  a9516a079e37a9c9c36b9b78b10169e8  7c67e1448b00f6e969d365cea6b010ab   \n",
            "1  4aa6014eceb682077f9dc4bffebc05b0  b8bc237ba3788b23da09c0f1f3a3288c   \n",
            "2  bd07b66896d6f1494f5b86251848ced7  7c67e1448b00f6e969d365cea6b010ab   \n",
            "3  a5647c44af977b148e0a3a4751a09e2e  7c67e1448b00f6e969d365cea6b010ab   \n",
            "4  9391a573abe00141c56e38d84d7d5b3b  4a3ca9315b744ce9f8e9374361493884   \n",
            "\n",
            "   shipping_limit_date   price freight_value  \n",
            "0  2017-05-22 15:22:12  124.99         21.88  \n",
            "1  2018-01-18 20:58:32  289.00         46.48  \n",
            "2  2018-06-05 16:19:10  139.94         17.79  \n",
            "3  2018-03-27 16:31:16  149.94         23.36  \n",
            "4  2018-07-31 10:10:09  230.00         22.25  \n",
            "\n",
            "[5 rows x 23 columns]\n",
            "customer_id                           0\n",
            "customer_unique_id                    0\n",
            "customer_zip_code_prefix              0\n",
            "customer_city                         0\n",
            "customer_state                        0\n",
            "geolocation_zip_code_prefix      113425\n",
            "geolocation_lat                  113425\n",
            "geolocation_lng                  113425\n",
            "geolocation_city                 113425\n",
            "geolocation_state                113425\n",
            "order_id                              0\n",
            "order_status                          0\n",
            "order_purchase_timestamp              0\n",
            "order_approved_at                   161\n",
            "order_delivered_carrier_date       1968\n",
            "order_delivered_customer_date      3229\n",
            "order_estimated_delivery_date         0\n",
            "order_item_id                       775\n",
            "product_id                          775\n",
            "seller_id                           775\n",
            "shipping_limit_date                 775\n",
            "price                               775\n",
            "freight_value                       775\n",
            "dtype: int64\n"
          ]
        }
      ],
      "source": [
        "import pandas as pd\n",
        "from sklearn.neighbors import NearestNeighbors\n",
        "import numpy as np\n",
        "\n",
        "\n",
        "cust=pd.read_csv(\"https://raw.githubusercontent.com/JyothirmaiV13/Quest-labs-Ai/main/olist_customers_dataset.csv\")\n",
        "locn=pd.read_csv(\"https://raw.githubusercontent.com/JyothirmaiV13/Quest-labs-Ai/main/location.csv\")\n",
        "orders=pd.read_csv(\"https://raw.githubusercontent.com/JyothirmaiV13/Quest-labs-Ai/main/olist_orders_dataset.csv\")\n",
        "items=pd.read_csv(\"https://raw.githubusercontent.com/JyothirmaiV13/Quest-labs-Ai/main/olist_order_items_dataset.csv\")\n",
        "\n",
        "\n",
        "df=cust.join(locn,on='customer_zip_code_prefix',how='left')\n",
        "df=df.merge(orders,on='customer_id',how='left')\n",
        "df=df.merge(items,on='order_id',how='left')\n",
        "\n",
        "\n",
        "# Extracting geographic location data\n",
        "print(df.head())\n",
        "print(df.isnull().sum())\n"
      ]
    },
    {
      "cell_type": "code",
      "source": [
        "df = df.fillna(0)\n",
        "print(df.isnull().sum())"
      ],
      "metadata": {
        "colab": {
          "base_uri": "https://localhost:8080/"
        },
        "id": "mj1euLGbGrj1",
        "outputId": "2d3260ea-1c2c-4e93-cc51-8bac994a3064"
      },
      "execution_count": 18,
      "outputs": [
        {
          "output_type": "stream",
          "name": "stdout",
          "text": [
            "customer_id                      0\n",
            "customer_unique_id               0\n",
            "customer_zip_code_prefix         0\n",
            "customer_city                    0\n",
            "customer_state                   0\n",
            "geolocation_zip_code_prefix      0\n",
            "geolocation_lat                  0\n",
            "geolocation_lng                  0\n",
            "geolocation_city                 0\n",
            "geolocation_state                0\n",
            "order_id                         0\n",
            "order_status                     0\n",
            "order_purchase_timestamp         0\n",
            "order_approved_at                0\n",
            "order_delivered_carrier_date     0\n",
            "order_delivered_customer_date    0\n",
            "order_estimated_delivery_date    0\n",
            "order_item_id                    0\n",
            "product_id                       0\n",
            "seller_id                        0\n",
            "shipping_limit_date              0\n",
            "price                            0\n",
            "freight_value                    0\n",
            "dtype: int64\n"
          ]
        }
      ]
    },
    {
      "cell_type": "code",
      "source": [
        "locations = df[['geolocation_lat', 'geolocation_lng']].values\n",
        "\n",
        "# Initializing the KNN model\n",
        "knn = NearestNeighbors(n_neighbors=3, algorithm='ball_tree')\n",
        "knn.fit(locations)\n",
        "\n",
        "# Function to get product recommendations based on location\n",
        "def recommend_products(lat, lon, k=3):\n",
        "    # Finding k nearest neighbors\n",
        "    distances, indices = knn.kneighbors([[lat, lon]], n_neighbors=k)\n",
        "\n",
        "    # Getting product recommendations\n",
        "    recommended_products = df.iloc[indices[0]]['product_id'].values\n",
        "    return recommended_products\n",
        "\n",
        "#  Making a recommendation for a new user at a specific location\n",
        "user_location_lat = 40.0\n",
        "user_location_lon = -140.2\n",
        "recommended_products = recommend_products(user_location_lat, user_location_lon)\n",
        "print(f\"Recommended products for location ({user_location_lat}, {user_location_lon}): {recommended_products}\")"
      ],
      "metadata": {
        "colab": {
          "base_uri": "https://localhost:8080/"
        },
        "id": "pbml3m2dFqCX",
        "outputId": "ce94b890-31bd-4d35-b36f-233adb51cd56"
      },
      "execution_count": 19,
      "outputs": [
        {
          "output_type": "stream",
          "name": "stdout",
          "text": [
            "Recommended products for location (40.0, -140.2): ['11b062c710beb867b4897ff2728e828d' '4aa6014eceb682077f9dc4bffebc05b0'\n",
            " 'a9516a079e37a9c9c36b9b78b10169e8']\n"
          ]
        }
      ]
    },
    {
      "cell_type": "code",
      "source": [
        "\"\"\"\n",
        "import pandas as pd\n",
        "from sklearn.naive_bayes import GaussianNB\n",
        "from sklearn.model_selection import train_test_split\n",
        "\n",
        "#df=df[df['product_id'].str.isdigit()]\n",
        "\n",
        "# Extracting features and target\n",
        "X = df[['geolocation_lat', 'geolocation_lng']]\n",
        "y = df['product_id'].astype(int)\n",
        "\n",
        "# Splitting the data into training and testing sets\n",
        "X_train, X_test, y_train, y_test = train_test_split(X, y, test_size=0.2, random_state=42)\n",
        "\n",
        "# Initializing and training the Naive Bayes model\n",
        "nb = GaussianNB()\n",
        "nb.fit(X_train, y_train)\n",
        "\n",
        "# Function to get product recommendations based on location\n",
        "def recommend_product(lat, lon):\n",
        "    # Making a prediction\n",
        "    predicted_product = nb.predict([[lat, lon]])\n",
        "    return predicted_product[0]\n",
        "\n",
        "# Example: Making a recommendation for a new user at a specific location\n",
        "user_location_lat = 34.0\n",
        "user_location_lon = -118.2\n",
        "recommended_product = recommend_product(user_location_lat, user_location_lon)\n",
        "print(f\"Recommended product for location ({user_location_lat}, {user_location_lon}): {recommended_product}\")\"\"\""
      ],
      "metadata": {
        "colab": {
          "base_uri": "https://localhost:8080/",
          "height": 123
        },
        "id": "aX742l8wm_hz",
        "outputId": "66d2f89a-49de-43d6-f855-5e30c1b8b71f"
      },
      "execution_count": 20,
      "outputs": [
        {
          "output_type": "execute_result",
          "data": {
            "text/plain": [
              "'\\nimport pandas as pd\\nfrom sklearn.naive_bayes import GaussianNB\\nfrom sklearn.model_selection import train_test_split\\n\\n#df=df[df[\\'product_id\\'].str.isdigit()]\\n\\n# Extracting features and target\\nX = df[[\\'geolocation_lat\\', \\'geolocation_lng\\']]\\ny = df[\\'product_id\\'].astype(int)\\n\\n# Splitting the data into training and testing sets\\nX_train, X_test, y_train, y_test = train_test_split(X, y, test_size=0.2, random_state=42)\\n\\n# Initializing and training the Naive Bayes model\\nnb = GaussianNB()\\nnb.fit(X_train, y_train)\\n\\n# Function to get product recommendations based on location\\ndef recommend_product(lat, lon):\\n    # Making a prediction\\n    predicted_product = nb.predict([[lat, lon]])\\n    return predicted_product[0]\\n\\n# Example: Making a recommendation for a new user at a specific location\\nuser_location_lat = 34.0\\nuser_location_lon = -118.2\\nrecommended_product = recommend_product(user_location_lat, user_location_lon)\\nprint(f\"Recommended product for location ({user_location_lat}, {user_location_lon}): {recommended_product}\")'"
            ],
            "application/vnd.google.colaboratory.intrinsic+json": {
              "type": "string"
            }
          },
          "metadata": {},
          "execution_count": 20
        }
      ]
    }
  ]
}